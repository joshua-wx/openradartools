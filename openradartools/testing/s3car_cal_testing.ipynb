{
 "cells": [
  {
   "cell_type": "code",
   "execution_count": 1,
   "metadata": {},
   "outputs": [],
   "source": [
    "import h5py"
   ]
  },
  {
   "cell_type": "code",
   "execution_count": 3,
   "metadata": {},
   "outputs": [],
   "source": [
    "test_file = '/g/data/kl02/jss548/aura/testing_files/s3car_calibration/66_20240603_010000.pvol.h5'"
   ]
  },
  {
   "cell_type": "code",
   "execution_count": 4,
   "metadata": {},
   "outputs": [],
   "source": [
    "def get_s3car_from_odimh5(h5_ffn):\n",
    "    cal_dict = {'z_calibration':0, 'zdr_calibration':0, 'az_error':0, 'el_error':0}\n",
    "    with h5py.File(h5_ffn, 'r') as hfile:\n",
    "        global_how = hfile['how'].attrs\n",
    "        try:\n",
    "            cal_dict['z_calibration'] = global_how['monitoring_calibration']\n",
    "        except:\n",
    "            pass\n",
    "        try:\n",
    "            cal_dict['zdr_calibration'] = 0\n",
    "        except:\n",
    "            pass\n",
    "        try:\n",
    "            cal_dict['monitoring_az_error'] = global_how['monitoring_az_error']\n",
    "        except:\n",
    "            pass\n",
    "        try:\n",
    "            cal_dict['monitoring_el_error'] = global_how['monitoring_el_error']\n",
    "        except:\n",
    "            pass        \n",
    "    return cal_dict"
   ]
  },
  {
   "cell_type": "code",
   "execution_count": 5,
   "metadata": {},
   "outputs": [
    {
     "name": "stdout",
     "output_type": "stream",
     "text": [
      "{'z_calibration': 3.0, 'zdr_calibration': 0, 'az_error': 0, 'el_error': 0, 'monitoring_az_error': -0.02, 'monitoring_el_error': -0.06}\n"
     ]
    }
   ],
   "source": [
    "out = get_s3car_from_odimh5(test_file)\n",
    "print(out)"
   ]
  },
  {
   "cell_type": "code",
   "execution_count": null,
   "metadata": {},
   "outputs": [],
   "source": []
  }
 ],
 "metadata": {
  "kernelspec": {
   "display_name": "openradar",
   "language": "python",
   "name": "python3"
  },
  "language_info": {
   "codemirror_mode": {
    "name": "ipython",
    "version": 3
   },
   "file_extension": ".py",
   "mimetype": "text/x-python",
   "name": "python",
   "nbconvert_exporter": "python",
   "pygments_lexer": "ipython3",
   "version": "3.8.18"
  }
 },
 "nbformat": 4,
 "nbformat_minor": 2
}
