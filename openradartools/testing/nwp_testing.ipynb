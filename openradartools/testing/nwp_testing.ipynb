{
 "cells": [
  {
   "cell_type": "code",
   "execution_count": 1,
   "id": "99bbb911-7be9-4cf6-80ca-6ebe3cb3b3d6",
   "metadata": {},
   "outputs": [
    {
     "name": "stdout",
     "output_type": "stream",
     "text": [
      "\n",
      "## You are using the Python ARM Radar Toolkit (Py-ART), an open source\n",
      "## library for working with weather radar data. Py-ART is partly\n",
      "## supported by the U.S. Department of Energy as part of the Atmospheric\n",
      "## Radiation Measurement (ARM) Climate Research Facility, an Office of\n",
      "## Science user facility.\n",
      "##\n",
      "## If you use this software to prepare a publication, please cite:\n",
      "##\n",
      "##     JJ Helmus and SM Collis, JORS 2016, doi: 10.5334/jors.119\n",
      "\n"
     ]
    }
   ],
   "source": [
    "import nwp\n",
    "import pyart"
   ]
  },
  {
   "cell_type": "code",
   "execution_count": 4,
   "id": "7fd67ed6-9078-4c47-89e7-cc67a339a939",
   "metadata": {},
   "outputs": [
    {
     "name": "stderr",
     "output_type": "stream",
     "text": [
      "/g/data/en0/jss548/miniconda3/envs/radar-dev/lib/python3.9/site-packages/ipykernel/ipkernel.py:283: DeprecationWarning: `should_run_async` will not call `transform_cell` automatically in the future. Please pass the result to `transformed_cell` argument and any exception that happen during thetransform in `preprocessing_exc_tuple` in IPython 7.17 and above.\n",
      "  and should_run_async(code)\n"
     ]
    },
    {
     "name": "stdout",
     "output_type": "stream",
     "text": [
      "{'t': array([ 32.014496 ,  32.014496 ,  29.938904 ,  27.5867   ,  25.652802 ,\n",
      "        23.531494 ,  21.307312 ,  19.076263 ,  16.637207 ,  14.1501465,\n",
      "        11.804779 ,   6.8672485,   2.4348755,  -1.9997864,  -6.3407288,\n",
      "       -10.827972 , -15.244354 , -20.652802 , -27.743683 , -35.78778  ,\n",
      "       -43.29698  , -45.690323 , -52.376602 , -57.177002 , -62.729477 ,\n",
      "       -66.99727  , -65.11368  , -65.41313  , -59.40805  , -54.075027 ,\n",
      "       -45.39087  , -39.02005  , -29.91986  , -24.536545 , -11.671478 ,\n",
      "        -7.632263 ,  -4.566864 ], dtype=float32), 'z': array([4.40000000e+01, 2.34748230e+02, 4.66504211e+02, 7.03702942e+02,\n",
      "       9.45568481e+02, 1.19287671e+03, 1.44485339e+03, 1.70305029e+03,\n",
      "       1.96668994e+03, 2.23577563e+03, 2.51185889e+03, 3.08502539e+03,\n",
      "       3.69007739e+03, 4.33168115e+03, 5.01761572e+03, 5.75643164e+03,\n",
      "       6.55902002e+03, 7.43937793e+03, 8.41306152e+03, 9.50184277e+03,\n",
      "       1.07469453e+04, 1.14530967e+04, 1.22253555e+04, 1.30792715e+04,\n",
      "       1.40405107e+04, 1.51518486e+04, 1.65027148e+04, 1.86585059e+04,\n",
      "       2.07373027e+04, 2.39686543e+04, 2.66105059e+04, 3.12922734e+04,\n",
      "       3.37910273e+04, 3.62112383e+04, 4.00243086e+04, 4.31584453e+04,\n",
      "       4.86233555e+04]), 'r': array([3.5969242e+01, 3.5969242e+01, 3.6980782e+01, 4.0350300e+01,\n",
      "       4.2363125e+01, 4.5349895e+01, 4.9341373e+01, 5.3695087e+01,\n",
      "       5.9904434e+01, 6.5577248e+01, 6.9035614e+01, 7.8911789e+01,\n",
      "       7.6693924e+01, 6.5320946e+01, 5.2970608e+01, 5.1562656e+01,\n",
      "       3.0023037e+01, 2.9486511e+01, 3.4810757e+01, 3.4957706e+01,\n",
      "       3.0033291e+01, 2.4575764e+01, 3.4954288e+01, 2.0830338e+01,\n",
      "       1.6845695e+01, 1.5458252e+01, 7.9878998e+00, 5.8588867e+00,\n",
      "       1.8913269e+00, 5.7906342e-01, 1.3822174e-01, 3.5705566e-02,\n",
      "       8.3618164e-03, 4.9438477e-03, 1.5335083e-03, 1.5335083e-03,\n",
      "       1.5335083e-03], dtype=float32), 'p': array([987.85445312, 975.        , 950.        , 925.        ,\n",
      "       900.        , 875.        , 850.        , 825.        ,\n",
      "       800.        , 775.        , 750.        , 700.        ,\n",
      "       650.        , 600.        , 550.        , 500.        ,\n",
      "       450.        , 400.        , 350.        , 300.        ,\n",
      "       250.        , 225.        , 200.        , 175.        ,\n",
      "       150.        , 125.        , 100.        ,  70.        ,\n",
      "        50.        ,  30.        ,  20.        ,  10.        ,\n",
      "         7.        ,   5.        ,   3.        ,   2.        ,\n",
      "         1.        ])}\n"
     ]
    }
   ],
   "source": [
    "#TEST ERA5\n",
    "radar_ffn = '/home/548/jss548/dev/tmp/testing_files/dp/02_20190130_050031.pvol.h5'\n",
    "radar = pyart.aux_io.read_odim_h5(radar_ffn)\n",
    "z_field, temp_info_field, isom_field, profile_dict, levels_dict = nwp.nwp_profile(radar, source='era5')\n",
    "print(profile_dict)"
   ]
  },
  {
   "cell_type": "code",
   "execution_count": 5,
   "id": "c87286a5-12b7-41ef-8154-c297d2730e59",
   "metadata": {},
   "outputs": [
    {
     "name": "stderr",
     "output_type": "stream",
     "text": [
      "/g/data/en0/jss548/miniconda3/envs/radar-dev/lib/python3.9/site-packages/ipykernel/ipkernel.py:283: DeprecationWarning: `should_run_async` will not call `transform_cell` automatically in the future. Please pass the result to `transformed_cell` argument and any exception that happen during thetransform in `preprocessing_exc_tuple` in IPython 7.17 and above.\n",
      "  and should_run_async(code)\n"
     ]
    },
    {
     "name": "stdout",
     "output_type": "stream",
     "text": [
      "{'t': array([ 21.182678 ,  21.182678 ,  24.085632 ,  24.511444 ,  20.611145 ,\n",
      "        16.511444 ,  12.325531 ,   7.4306335,  -2.9820862, -11.241241 ,\n",
      "       -16.563965 , -23.143707 , -31.124481 , -39.455994 , -43.7847   ,\n",
      "       -48.25862  , -51.823166 , -54.574036 , -56.50119  , -59.298813 ,\n",
      "       -66.8479   , -68.64082  , -63.91635  , -58.024628 , -52.916992 ,\n",
      "       -40.920944 ], dtype=float32), 'z': array([  449.        ,   571.5032959 ,   803.3939209 ,  1042.86645508,\n",
      "        1539.60241699,  2059.03979492,  2604.34716797,  3178.01074219,\n",
      "        4422.77197266,  5843.43701172,  6643.74169922,  7517.40136719,\n",
      "        8479.00390625,  9551.81835938, 10141.81640625, 10775.0625    ,\n",
      "       11462.27832031, 12220.61621094, 13070.95019531, 14044.26171875,\n",
      "       16531.47265625, 18670.890625  , 20703.90820312, 23871.79296875,\n",
      "       26459.625     , 31009.92382812]), 'r': array([4.5857185e+01, 4.5857185e+01, 2.3990120e+01, 2.6592842e+01,\n",
      "       3.0696760e+01, 4.2812050e+01, 5.0040661e+01, 5.9358730e+01,\n",
      "       6.9872406e+01, 9.4183664e+00, 1.7955786e+01, 1.9158611e+01,\n",
      "       1.6557070e+01, 1.0343808e+01, 1.5330143e+01, 2.2332289e+01,\n",
      "       1.9453600e+01, 1.9744501e+01, 1.3710425e+01, 5.5510392e+00,\n",
      "       6.1639590e+00, 6.0453849e+00, 2.3990133e+00, 6.7322117e-01,\n",
      "       2.3731451e-01, 3.4214828e-02], dtype=float32), 'p': array([998.8525, 950.    , 925.    , 900.    , 850.    , 800.    ,\n",
      "       750.    , 700.    , 600.    , 500.    , 450.    , 400.    ,\n",
      "       350.    , 300.    , 275.    , 250.    , 225.    , 200.    ,\n",
      "       175.    , 150.    , 100.    ,  70.    ,  50.    ,  30.    ,\n",
      "        20.    ,  10.    ])}\n"
     ]
    }
   ],
   "source": [
    "#TEST APS2\n",
    "radar_ffn = '/home/548/jss548/dev/tmp/testing_files/sea_clutter/03_20181226_115437.pvol.h5'\n",
    "radar = pyart.aux_io.read_odim_h5(radar_ffn)\n",
    "z_field, temp_info_field, isom_field, profile_dict, levels_dict = nwp.nwp_profile(radar, source='access')\n",
    "print(profile_dict)"
   ]
  },
  {
   "cell_type": "code",
   "execution_count": 6,
   "id": "58e53cd3-ee14-443f-92ba-1d5d84c0faa0",
   "metadata": {},
   "outputs": [
    {
     "name": "stderr",
     "output_type": "stream",
     "text": [
      "/g/data/en0/jss548/miniconda3/envs/radar-dev/lib/python3.9/site-packages/ipykernel/ipkernel.py:283: DeprecationWarning: `should_run_async` will not call `transform_cell` automatically in the future. Please pass the result to `transformed_cell` argument and any exception that happen during thetransform in `preprocessing_exc_tuple` in IPython 7.17 and above.\n",
      "  and should_run_async(code)\n"
     ]
    },
    {
     "name": "stdout",
     "output_type": "stream",
     "text": [
      "{'t': array([ 30.975311,  30.975311,  28.643616,  26.295258,  23.938477,\n",
      "        19.878326,  15.705292,  11.090942,   6.263031,  -2.16922 ,\n",
      "       -10.822174, -15.930328, -21.52385 , -28.005615, -35.695312,\n",
      "       -39.985825, -44.621613, -49.06073 , -53.11035 , -57.446045,\n",
      "       -60.81244 , -63.878845, -64.52867 , -58.00482 , -53.473648,\n",
      "       -46.625336, -36.90503 ], dtype=float32), 'z': array([   44.        ,   238.46765137,   470.46621704,   706.79492188,\n",
      "         947.7142334 ,  1444.53491211,  1964.07910156,  2508.39526367,\n",
      "        3080.13720703,  4325.03613281,  5751.54541016,  6553.8671875 ,\n",
      "        7432.07910156,  8403.78027344,  9493.09765625, 10092.84179688,\n",
      "       10736.95996094, 11433.8984375 , 12200.43066406, 13051.88867188,\n",
      "       14017.58105469, 16505.81835938, 18673.5625    , 20763.98632812,\n",
      "       24000.4609375 , 26651.47851562, 31300.734375  ]), 'r': array([4.0864895e+01, 4.0864895e+01, 4.5258259e+01, 5.0397957e+01,\n",
      "       5.6127651e+01, 6.2587460e+01, 6.8170357e+01, 7.2214691e+01,\n",
      "       8.2345459e+01, 8.5753151e+01, 7.6040077e+01, 8.0034431e+01,\n",
      "       8.2794281e+01, 7.9412849e+01, 7.2779099e+01, 6.9756454e+01,\n",
      "       6.6565407e+01, 6.3267014e+01, 4.2514114e+01, 1.2686089e+01,\n",
      "       5.1145067e+00, 3.5792761e+00, 3.3110712e+00, 1.1042343e+00,\n",
      "       3.8679597e-01, 1.1637241e-01, 2.3427034e-02], dtype=float32), 'p': array([1000.93625,  975.     ,  950.     ,  925.     ,  900.     ,\n",
      "        850.     ,  800.     ,  750.     ,  700.     ,  600.     ,\n",
      "        500.     ,  450.     ,  400.     ,  350.     ,  300.     ,\n",
      "        275.     ,  250.     ,  225.     ,  200.     ,  175.     ,\n",
      "        150.     ,  100.     ,   70.     ,   50.     ,   30.     ,\n",
      "         20.     ,   10.     ])}\n"
     ]
    }
   ],
   "source": [
    "#TEST APS3\n",
    "radar_ffn = '/home/548/jss548/dev/tmp/testing_files/dp/02_20190130_050031.pvol.h5'\n",
    "radar = pyart.aux_io.read_odim_h5(radar_ffn)\n",
    "z_field, temp_info_field, isom_field, profile_dict, levels_dict = nwp.nwp_profile(radar, source='access')\n",
    "print(profile_dict)"
   ]
  },
  {
   "cell_type": "code",
   "execution_count": null,
   "id": "b0c94a2e-4d37-42d1-be6b-584f1cc86410",
   "metadata": {},
   "outputs": [],
   "source": []
  }
 ],
 "metadata": {
  "kernelspec": {
   "display_name": "Python [conda env:radar-dev] *",
   "language": "python",
   "name": "conda-env-radar-dev-py"
  },
  "language_info": {
   "codemirror_mode": {
    "name": "ipython",
    "version": 3
   },
   "file_extension": ".py",
   "mimetype": "text/x-python",
   "name": "python",
   "nbconvert_exporter": "python",
   "pygments_lexer": "ipython3",
   "version": "3.9.4"
  }
 },
 "nbformat": 4,
 "nbformat_minor": 5
}
